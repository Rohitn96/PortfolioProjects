{
 "cells": [
  {
   "cell_type": "code",
   "execution_count": 1,
   "id": "f0519005",
   "metadata": {},
   "outputs": [],
   "source": [
    "## Importing The data"
   ]
  },
  {
   "cell_type": "code",
   "execution_count": 1,
   "id": "e059d8b0",
   "metadata": {},
   "outputs": [],
   "source": [
    "# Importing Libraries\n",
    "import pandas as pd\n",
    "import numpy as np\n",
    "import matplotlib.pyplot as plt\n",
    "from sklearn.linear_model import Ridge\n",
    "from sklearn.model_selection import train_test_split\n",
    "from sklearn.metrics import mean_absolute_error, mean_squared_error"
   ]
  },
  {
   "cell_type": "code",
   "execution_count": 2,
   "id": "ef7a3a64",
   "metadata": {},
   "outputs": [],
   "source": [
    "# Dataset downloaded from NOAA ( National Oceanic and Atmospheric Administration )\n",
    "weather = pd.read_csv(\"C:\\\\Users\\\\rohit\\\\OneDrive\\\\Desktop\\\\Data Analyst\\\\PortfolioProjects\\\\Helsinki Weather\\\\HelsinkiWeather.csv\", index_col=\"DATE\")"
   ]
  },
  {
   "cell_type": "code",
   "execution_count": 3,
   "id": "1064d922",
   "metadata": {},
   "outputs": [
    {
     "data": {
      "text/html": [
       "<div>\n",
       "<style scoped>\n",
       "    .dataframe tbody tr th:only-of-type {\n",
       "        vertical-align: middle;\n",
       "    }\n",
       "\n",
       "    .dataframe tbody tr th {\n",
       "        vertical-align: top;\n",
       "    }\n",
       "\n",
       "    .dataframe thead th {\n",
       "        text-align: right;\n",
       "    }\n",
       "</style>\n",
       "<table border=\"1\" class=\"dataframe\">\n",
       "  <thead>\n",
       "    <tr style=\"text-align: right;\">\n",
       "      <th></th>\n",
       "      <th>LOC</th>\n",
       "      <th>STATION</th>\n",
       "      <th>PRCP</th>\n",
       "      <th>SNWD</th>\n",
       "      <th>TAVG</th>\n",
       "      <th>TMAX</th>\n",
       "      <th>TMIN</th>\n",
       "    </tr>\n",
       "    <tr>\n",
       "      <th>DATE</th>\n",
       "      <th></th>\n",
       "      <th></th>\n",
       "      <th></th>\n",
       "      <th></th>\n",
       "      <th></th>\n",
       "      <th></th>\n",
       "      <th></th>\n",
       "    </tr>\n",
       "  </thead>\n",
       "  <tbody>\n",
       "    <tr>\n",
       "      <th>01/11/2005</th>\n",
       "      <td>Helsinki Airport</td>\n",
       "      <td>FIE00142080</td>\n",
       "      <td>0.00</td>\n",
       "      <td>NaN</td>\n",
       "      <td>6.67</td>\n",
       "      <td>7.22</td>\n",
       "      <td>4.44</td>\n",
       "    </tr>\n",
       "    <tr>\n",
       "      <th>02/11/2005</th>\n",
       "      <td>Helsinki Airport</td>\n",
       "      <td>FIE00142080</td>\n",
       "      <td>0.00</td>\n",
       "      <td>NaN</td>\n",
       "      <td>6.67</td>\n",
       "      <td>7.22</td>\n",
       "      <td>5.00</td>\n",
       "    </tr>\n",
       "    <tr>\n",
       "      <th>03/11/2005</th>\n",
       "      <td>Helsinki Airport</td>\n",
       "      <td>FIE00142080</td>\n",
       "      <td>0.00</td>\n",
       "      <td>NaN</td>\n",
       "      <td>8.89</td>\n",
       "      <td>10.00</td>\n",
       "      <td>6.67</td>\n",
       "    </tr>\n",
       "    <tr>\n",
       "      <th>04/11/2005</th>\n",
       "      <td>Helsinki Airport</td>\n",
       "      <td>FIE00142080</td>\n",
       "      <td>0.04</td>\n",
       "      <td>NaN</td>\n",
       "      <td>7.78</td>\n",
       "      <td>8.33</td>\n",
       "      <td>5.00</td>\n",
       "    </tr>\n",
       "    <tr>\n",
       "      <th>05/11/2005</th>\n",
       "      <td>Helsinki Airport</td>\n",
       "      <td>FIE00142080</td>\n",
       "      <td>0.22</td>\n",
       "      <td>NaN</td>\n",
       "      <td>8.33</td>\n",
       "      <td>9.44</td>\n",
       "      <td>7.22</td>\n",
       "    </tr>\n",
       "    <tr>\n",
       "      <th>...</th>\n",
       "      <td>...</td>\n",
       "      <td>...</td>\n",
       "      <td>...</td>\n",
       "      <td>...</td>\n",
       "      <td>...</td>\n",
       "      <td>...</td>\n",
       "      <td>...</td>\n",
       "    </tr>\n",
       "    <tr>\n",
       "      <th>01/11/2023</th>\n",
       "      <td>Helsinki Airport</td>\n",
       "      <td>FIE00142080</td>\n",
       "      <td>0.28</td>\n",
       "      <td>NaN</td>\n",
       "      <td>2.22</td>\n",
       "      <td>-17.78</td>\n",
       "      <td>0.56</td>\n",
       "    </tr>\n",
       "    <tr>\n",
       "      <th>02/11/2023</th>\n",
       "      <td>Helsinki Airport</td>\n",
       "      <td>FIE00142080</td>\n",
       "      <td>0.01</td>\n",
       "      <td>0.4</td>\n",
       "      <td>0.00</td>\n",
       "      <td>2.78</td>\n",
       "      <td>-2.78</td>\n",
       "    </tr>\n",
       "    <tr>\n",
       "      <th>03/11/2023</th>\n",
       "      <td>Helsinki Airport</td>\n",
       "      <td>FIE00142080</td>\n",
       "      <td>0.00</td>\n",
       "      <td>NaN</td>\n",
       "      <td>3.89</td>\n",
       "      <td>-17.78</td>\n",
       "      <td>-2.78</td>\n",
       "    </tr>\n",
       "    <tr>\n",
       "      <th>04/11/2023</th>\n",
       "      <td>Helsinki Airport</td>\n",
       "      <td>FIE00142080</td>\n",
       "      <td>0.47</td>\n",
       "      <td>NaN</td>\n",
       "      <td>7.78</td>\n",
       "      <td>-17.78</td>\n",
       "      <td>-17.78</td>\n",
       "    </tr>\n",
       "    <tr>\n",
       "      <th>05/11/2023</th>\n",
       "      <td>Helsinki Airport</td>\n",
       "      <td>FIE00142080</td>\n",
       "      <td>0.01</td>\n",
       "      <td>NaN</td>\n",
       "      <td>7.22</td>\n",
       "      <td>8.89</td>\n",
       "      <td>2.78</td>\n",
       "    </tr>\n",
       "  </tbody>\n",
       "</table>\n",
       "<p>6579 rows × 7 columns</p>\n",
       "</div>"
      ],
      "text/plain": [
       "                         LOC      STATION  PRCP  SNWD  TAVG   TMAX   TMIN\n",
       "DATE                                                                     \n",
       "01/11/2005  Helsinki Airport  FIE00142080  0.00   NaN  6.67   7.22   4.44\n",
       "02/11/2005  Helsinki Airport  FIE00142080  0.00   NaN  6.67   7.22   5.00\n",
       "03/11/2005  Helsinki Airport  FIE00142080  0.00   NaN  8.89  10.00   6.67\n",
       "04/11/2005  Helsinki Airport  FIE00142080  0.04   NaN  7.78   8.33   5.00\n",
       "05/11/2005  Helsinki Airport  FIE00142080  0.22   NaN  8.33   9.44   7.22\n",
       "...                      ...          ...   ...   ...   ...    ...    ...\n",
       "01/11/2023  Helsinki Airport  FIE00142080  0.28   NaN  2.22 -17.78   0.56\n",
       "02/11/2023  Helsinki Airport  FIE00142080  0.01   0.4  0.00   2.78  -2.78\n",
       "03/11/2023  Helsinki Airport  FIE00142080  0.00   NaN  3.89 -17.78  -2.78\n",
       "04/11/2023  Helsinki Airport  FIE00142080  0.47   NaN  7.78 -17.78 -17.78\n",
       "05/11/2023  Helsinki Airport  FIE00142080  0.01   NaN  7.22   8.89   2.78\n",
       "\n",
       "[6579 rows x 7 columns]"
      ]
     },
     "execution_count": 3,
     "metadata": {},
     "output_type": "execute_result"
    }
   ],
   "source": [
    "weather"
   ]
  },
  {
   "cell_type": "code",
   "execution_count": 4,
   "id": "3138750f",
   "metadata": {},
   "outputs": [],
   "source": [
    "## Standardizing the data for Machine Learning"
   ]
  },
  {
   "cell_type": "code",
   "execution_count": 5,
   "id": "c592f7d3",
   "metadata": {},
   "outputs": [
    {
     "data": {
      "text/plain": [
       "Index(['LOC', 'STATION', 'PRCP', 'SNWD', 'TAVG', 'TMAX', 'TMIN'], dtype='object')"
      ]
     },
     "execution_count": 5,
     "metadata": {},
     "output_type": "execute_result"
    }
   ],
   "source": [
    "weather.columns"
   ]
  },
  {
   "cell_type": "code",
   "execution_count": 6,
   "id": "9dc4397d",
   "metadata": {},
   "outputs": [
    {
     "data": {
      "text/plain": [
       "Index(['loc', 'station', 'prcp', 'snwd', 'tavg', 'tmax', 'tmin'], dtype='object')"
      ]
     },
     "execution_count": 6,
     "metadata": {},
     "output_type": "execute_result"
    }
   ],
   "source": [
    "weather.columns = weather.columns.str.lower()\n",
    "weather.columns"
   ]
  },
  {
   "cell_type": "code",
   "execution_count": 7,
   "id": "d96ed4c7",
   "metadata": {},
   "outputs": [],
   "source": [
    "weather.ffill(inplace=True)"
   ]
  },
  {
   "cell_type": "code",
   "execution_count": 8,
   "id": "5366f55b",
   "metadata": {
    "scrolled": true
   },
   "outputs": [
    {
     "data": {
      "text/plain": [
       "loc         0\n",
       "station     0\n",
       "prcp        0\n",
       "snwd       25\n",
       "tavg        0\n",
       "tmax        0\n",
       "tmin        0\n",
       "dtype: int64"
      ]
     },
     "execution_count": 8,
     "metadata": {},
     "output_type": "execute_result"
    }
   ],
   "source": [
    "weather.apply(pd.isnull).sum()"
   ]
  },
  {
   "cell_type": "code",
   "execution_count": 9,
   "id": "e09311e5",
   "metadata": {},
   "outputs": [],
   "source": [
    "weather[\"snwd\"].fillna(0, inplace=True)\n",
    "weather[\"prcp\"].fillna(0, inplace=True)"
   ]
  },
  {
   "cell_type": "code",
   "execution_count": 10,
   "id": "87712059",
   "metadata": {
    "scrolled": true
   },
   "outputs": [
    {
     "data": {
      "text/plain": [
       "loc        0\n",
       "station    0\n",
       "prcp       0\n",
       "snwd       0\n",
       "tavg       0\n",
       "tmax       0\n",
       "tmin       0\n",
       "dtype: int64"
      ]
     },
     "execution_count": 10,
     "metadata": {},
     "output_type": "execute_result"
    }
   ],
   "source": [
    "weather.apply(pd.isnull).sum()"
   ]
  },
  {
   "cell_type": "code",
   "execution_count": 11,
   "id": "13f633b0",
   "metadata": {},
   "outputs": [],
   "source": [
    "weather['prcp'] = weather['prcp'].astype(float)\n",
    "weather['snwd'] = weather['snwd'].astype(float)"
   ]
  },
  {
   "cell_type": "code",
   "execution_count": 12,
   "id": "c3f9bc1e",
   "metadata": {},
   "outputs": [
    {
     "data": {
      "text/plain": [
       "loc         object\n",
       "station     object\n",
       "prcp       float64\n",
       "snwd       float64\n",
       "tavg       float64\n",
       "tmax       float64\n",
       "tmin       float64\n",
       "dtype: object"
      ]
     },
     "execution_count": 12,
     "metadata": {},
     "output_type": "execute_result"
    }
   ],
   "source": [
    "weather.dtypes"
   ]
  },
  {
   "cell_type": "code",
   "execution_count": 13,
   "id": "bb305896",
   "metadata": {},
   "outputs": [
    {
     "data": {
      "text/plain": [
       "Index(['loc', 'station', 'prcp', 'snwd', 'tavg', 'tmax', 'tmin'], dtype='object')"
      ]
     },
     "execution_count": 13,
     "metadata": {},
     "output_type": "execute_result"
    }
   ],
   "source": [
    "weather.columns"
   ]
  },
  {
   "cell_type": "code",
   "execution_count": 14,
   "id": "77a0d59d",
   "metadata": {},
   "outputs": [],
   "source": [
    "weather.index = pd.to_datetime(weather.index, format='%d/%m/%Y')"
   ]
  },
  {
   "cell_type": "code",
   "execution_count": 15,
   "id": "2cbe4480",
   "metadata": {
    "scrolled": true
   },
   "outputs": [
    {
     "data": {
      "text/plain": [
       "DatetimeIndex(['2005-11-01', '2005-11-02', '2005-11-03', '2005-11-04',\n",
       "               '2005-11-05', '2005-11-06', '2005-11-07', '2005-11-08',\n",
       "               '2005-11-09', '2005-11-10',\n",
       "               ...\n",
       "               '2023-10-27', '2023-10-28', '2023-10-29', '2023-10-30',\n",
       "               '2023-10-31', '2023-11-01', '2023-11-02', '2023-11-03',\n",
       "               '2023-11-04', '2023-11-05'],\n",
       "              dtype='datetime64[ns]', name='DATE', length=6579, freq=None)"
      ]
     },
     "execution_count": 15,
     "metadata": {},
     "output_type": "execute_result"
    }
   ],
   "source": [
    "weather.index"
   ]
  },
  {
   "cell_type": "code",
   "execution_count": 16,
   "id": "b0963d7a",
   "metadata": {},
   "outputs": [
    {
     "data": {
      "text/plain": [
       "2005     61\n",
       "2006    365\n",
       "2007    365\n",
       "2008    366\n",
       "2009    365\n",
       "2010    365\n",
       "2011    365\n",
       "2012    366\n",
       "2013    365\n",
       "2014    365\n",
       "2015    365\n",
       "2016    366\n",
       "2017    365\n",
       "2018    365\n",
       "2019    365\n",
       "2020    366\n",
       "2021    365\n",
       "2022    365\n",
       "2023    309\n",
       "Name: DATE, dtype: int64"
      ]
     },
     "execution_count": 16,
     "metadata": {},
     "output_type": "execute_result"
    }
   ],
   "source": [
    "weather.index.year.value_counts().sort_index()"
   ]
  },
  {
   "cell_type": "code",
   "execution_count": 17,
   "id": "49144d30",
   "metadata": {},
   "outputs": [
    {
     "data": {
      "text/plain": [
       "<Axes: xlabel='DATE'>"
      ]
     },
     "execution_count": 17,
     "metadata": {},
     "output_type": "execute_result"
    },
    {
     "data": {
      "image/png": "[encoded data removed]",
      "text/plain": [
       "<Figure size 640x480 with 1 Axes>"
      ]
     },
     "metadata": {},
     "output_type": "display_data"
    }
   ],
   "source": [
    "weather[\"snwd\"].plot()"
   ]
  },
  {
   "cell_type": "code",
   "execution_count": 18,
   "id": "c3f4f74f",
   "metadata": {},
   "outputs": [
    {
     "data": {
      "text/html": [
       "<div>\n",
       "<style scoped>\n",
       "    .dataframe tbody tr th:only-of-type {\n",
       "        vertical-align: middle;\n",
       "    }\n",
       "\n",
       "    .dataframe tbody tr th {\n",
       "        vertical-align: top;\n",
       "    }\n",
       "\n",
       "    .dataframe thead th {\n",
       "        text-align: right;\n",
       "    }\n",
       "</style>\n",
       "<table border=\"1\" class=\"dataframe\">\n",
       "  <thead>\n",
       "    <tr style=\"text-align: right;\">\n",
       "      <th></th>\n",
       "      <th>loc</th>\n",
       "      <th>station</th>\n",
       "      <th>prcp</th>\n",
       "      <th>snwd</th>\n",
       "      <th>tavg</th>\n",
       "      <th>tmax</th>\n",
       "      <th>tmin</th>\n",
       "    </tr>\n",
       "    <tr>\n",
       "      <th>DATE</th>\n",
       "      <th></th>\n",
       "      <th></th>\n",
       "      <th></th>\n",
       "      <th></th>\n",
       "      <th></th>\n",
       "      <th></th>\n",
       "      <th></th>\n",
       "    </tr>\n",
       "  </thead>\n",
       "  <tbody>\n",
       "    <tr>\n",
       "      <th>2005-11-01</th>\n",
       "      <td>Helsinki Airport</td>\n",
       "      <td>FIE00142080</td>\n",
       "      <td>0.00</td>\n",
       "      <td>0.0</td>\n",
       "      <td>6.67</td>\n",
       "      <td>7.22</td>\n",
       "      <td>4.44</td>\n",
       "    </tr>\n",
       "    <tr>\n",
       "      <th>2005-11-02</th>\n",
       "      <td>Helsinki Airport</td>\n",
       "      <td>FIE00142080</td>\n",
       "      <td>0.00</td>\n",
       "      <td>0.0</td>\n",
       "      <td>6.67</td>\n",
       "      <td>7.22</td>\n",
       "      <td>5.00</td>\n",
       "    </tr>\n",
       "    <tr>\n",
       "      <th>2005-11-03</th>\n",
       "      <td>Helsinki Airport</td>\n",
       "      <td>FIE00142080</td>\n",
       "      <td>0.00</td>\n",
       "      <td>0.0</td>\n",
       "      <td>8.89</td>\n",
       "      <td>10.00</td>\n",
       "      <td>6.67</td>\n",
       "    </tr>\n",
       "    <tr>\n",
       "      <th>2005-11-04</th>\n",
       "      <td>Helsinki Airport</td>\n",
       "      <td>FIE00142080</td>\n",
       "      <td>0.04</td>\n",
       "      <td>0.0</td>\n",
       "      <td>7.78</td>\n",
       "      <td>8.33</td>\n",
       "      <td>5.00</td>\n",
       "    </tr>\n",
       "    <tr>\n",
       "      <th>2005-11-05</th>\n",
       "      <td>Helsinki Airport</td>\n",
       "      <td>FIE00142080</td>\n",
       "      <td>0.22</td>\n",
       "      <td>0.0</td>\n",
       "      <td>8.33</td>\n",
       "      <td>9.44</td>\n",
       "      <td>7.22</td>\n",
       "    </tr>\n",
       "    <tr>\n",
       "      <th>...</th>\n",
       "      <td>...</td>\n",
       "      <td>...</td>\n",
       "      <td>...</td>\n",
       "      <td>...</td>\n",
       "      <td>...</td>\n",
       "      <td>...</td>\n",
       "      <td>...</td>\n",
       "    </tr>\n",
       "    <tr>\n",
       "      <th>2023-11-01</th>\n",
       "      <td>Helsinki Airport</td>\n",
       "      <td>FIE00142080</td>\n",
       "      <td>0.28</td>\n",
       "      <td>0.4</td>\n",
       "      <td>2.22</td>\n",
       "      <td>-17.78</td>\n",
       "      <td>0.56</td>\n",
       "    </tr>\n",
       "    <tr>\n",
       "      <th>2023-11-02</th>\n",
       "      <td>Helsinki Airport</td>\n",
       "      <td>FIE00142080</td>\n",
       "      <td>0.01</td>\n",
       "      <td>0.4</td>\n",
       "      <td>0.00</td>\n",
       "      <td>2.78</td>\n",
       "      <td>-2.78</td>\n",
       "    </tr>\n",
       "    <tr>\n",
       "      <th>2023-11-03</th>\n",
       "      <td>Helsinki Airport</td>\n",
       "      <td>FIE00142080</td>\n",
       "      <td>0.00</td>\n",
       "      <td>0.4</td>\n",
       "      <td>3.89</td>\n",
       "      <td>-17.78</td>\n",
       "      <td>-2.78</td>\n",
       "    </tr>\n",
       "    <tr>\n",
       "      <th>2023-11-04</th>\n",
       "      <td>Helsinki Airport</td>\n",
       "      <td>FIE00142080</td>\n",
       "      <td>0.47</td>\n",
       "      <td>0.4</td>\n",
       "      <td>7.78</td>\n",
       "      <td>-17.78</td>\n",
       "      <td>-17.78</td>\n",
       "    </tr>\n",
       "    <tr>\n",
       "      <th>2023-11-05</th>\n",
       "      <td>Helsinki Airport</td>\n",
       "      <td>FIE00142080</td>\n",
       "      <td>0.01</td>\n",
       "      <td>0.4</td>\n",
       "      <td>7.22</td>\n",
       "      <td>8.89</td>\n",
       "      <td>2.78</td>\n",
       "    </tr>\n",
       "  </tbody>\n",
       "</table>\n",
       "<p>6579 rows × 7 columns</p>\n",
       "</div>"
      ],
      "text/plain": [
       "                         loc      station  prcp  snwd  tavg   tmax   tmin\n",
       "DATE                                                                     \n",
       "2005-11-01  Helsinki Airport  FIE00142080  0.00   0.0  6.67   7.22   4.44\n",
       "2005-11-02  Helsinki Airport  FIE00142080  0.00   0.0  6.67   7.22   5.00\n",
       "2005-11-03  Helsinki Airport  FIE00142080  0.00   0.0  8.89  10.00   6.67\n",
       "2005-11-04  Helsinki Airport  FIE00142080  0.04   0.0  7.78   8.33   5.00\n",
       "2005-11-05  Helsinki Airport  FIE00142080  0.22   0.0  8.33   9.44   7.22\n",
       "...                      ...          ...   ...   ...   ...    ...    ...\n",
       "2023-11-01  Helsinki Airport  FIE00142080  0.28   0.4  2.22 -17.78   0.56\n",
       "2023-11-02  Helsinki Airport  FIE00142080  0.01   0.4  0.00   2.78  -2.78\n",
       "2023-11-03  Helsinki Airport  FIE00142080  0.00   0.4  3.89 -17.78  -2.78\n",
       "2023-11-04  Helsinki Airport  FIE00142080  0.47   0.4  7.78 -17.78 -17.78\n",
       "2023-11-05  Helsinki Airport  FIE00142080  0.01   0.4  7.22   8.89   2.78\n",
       "\n",
       "[6579 rows x 7 columns]"
      ]
     },
     "execution_count": 18,
     "metadata": {},
     "output_type": "execute_result"
    }
   ],
   "source": [
    "weather"
   ]
  },
  {
   "cell_type": "code",
   "execution_count": 19,
   "id": "620f1536",
   "metadata": {},
   "outputs": [],
   "source": [
    "## Preparing Machine Learning Model"
   ]
  },
  {
   "cell_type": "code",
   "execution_count": 20,
   "id": "f62cf6f8",
   "metadata": {},
   "outputs": [],
   "source": [
    "# Predicting tomorrows TMAX (Maximum Temprature) as Target"
   ]
  },
  {
   "cell_type": "code",
   "execution_count": 21,
   "id": "679940f4",
   "metadata": {},
   "outputs": [],
   "source": [
    "weather[\"target\"] = weather.shift(-1)['tmax']"
   ]
  },
  {
   "cell_type": "code",
   "execution_count": 22,
   "id": "a7ce8e10",
   "metadata": {},
   "outputs": [
    {
     "data": {
      "text/html": [
       "<div>\n",
       "<style scoped>\n",
       "    .dataframe tbody tr th:only-of-type {\n",
       "        vertical-align: middle;\n",
       "    }\n",
       "\n",
       "    .dataframe tbody tr th {\n",
       "        vertical-align: top;\n",
       "    }\n",
       "\n",
       "    .dataframe thead th {\n",
       "        text-align: right;\n",
       "    }\n",
       "</style>\n",
       "<table border=\"1\" class=\"dataframe\">\n",
       "  <thead>\n",
       "    <tr style=\"text-align: right;\">\n",
       "      <th></th>\n",
       "      <th>loc</th>\n",
       "      <th>station</th>\n",
       "      <th>prcp</th>\n",
       "      <th>snwd</th>\n",
       "      <th>tavg</th>\n",
       "      <th>tmax</th>\n",
       "      <th>tmin</th>\n",
       "      <th>target</th>\n",
       "    </tr>\n",
       "    <tr>\n",
       "      <th>DATE</th>\n",
       "      <th></th>\n",
       "      <th></th>\n",
       "      <th></th>\n",
       "      <th></th>\n",
       "      <th></th>\n",
       "      <th></th>\n",
       "      <th></th>\n",
       "      <th></th>\n",
       "    </tr>\n",
       "  </thead>\n",
       "  <tbody>\n",
       "    <tr>\n",
       "      <th>2005-11-01</th>\n",
       "      <td>Helsinki Airport</td>\n",
       "      <td>FIE00142080</td>\n",
       "      <td>0.00</td>\n",
       "      <td>0.0</td>\n",
       "      <td>6.67</td>\n",
       "      <td>7.22</td>\n",
       "      <td>4.44</td>\n",
       "      <td>7.22</td>\n",
       "    </tr>\n",
       "    <tr>\n",
       "      <th>2005-11-02</th>\n",
       "      <td>Helsinki Airport</td>\n",
       "      <td>FIE00142080</td>\n",
       "      <td>0.00</td>\n",
       "      <td>0.0</td>\n",
       "      <td>6.67</td>\n",
       "      <td>7.22</td>\n",
       "      <td>5.00</td>\n",
       "      <td>10.00</td>\n",
       "    </tr>\n",
       "    <tr>\n",
       "      <th>2005-11-03</th>\n",
       "      <td>Helsinki Airport</td>\n",
       "      <td>FIE00142080</td>\n",
       "      <td>0.00</td>\n",
       "      <td>0.0</td>\n",
       "      <td>8.89</td>\n",
       "      <td>10.00</td>\n",
       "      <td>6.67</td>\n",
       "      <td>8.33</td>\n",
       "    </tr>\n",
       "    <tr>\n",
       "      <th>2005-11-04</th>\n",
       "      <td>Helsinki Airport</td>\n",
       "      <td>FIE00142080</td>\n",
       "      <td>0.04</td>\n",
       "      <td>0.0</td>\n",
       "      <td>7.78</td>\n",
       "      <td>8.33</td>\n",
       "      <td>5.00</td>\n",
       "      <td>9.44</td>\n",
       "    </tr>\n",
       "    <tr>\n",
       "      <th>2005-11-05</th>\n",
       "      <td>Helsinki Airport</td>\n",
       "      <td>FIE00142080</td>\n",
       "      <td>0.22</td>\n",
       "      <td>0.0</td>\n",
       "      <td>8.33</td>\n",
       "      <td>9.44</td>\n",
       "      <td>7.22</td>\n",
       "      <td>9.44</td>\n",
       "    </tr>\n",
       "    <tr>\n",
       "      <th>...</th>\n",
       "      <td>...</td>\n",
       "      <td>...</td>\n",
       "      <td>...</td>\n",
       "      <td>...</td>\n",
       "      <td>...</td>\n",
       "      <td>...</td>\n",
       "      <td>...</td>\n",
       "      <td>...</td>\n",
       "    </tr>\n",
       "    <tr>\n",
       "      <th>2023-11-01</th>\n",
       "      <td>Helsinki Airport</td>\n",
       "      <td>FIE00142080</td>\n",
       "      <td>0.28</td>\n",
       "      <td>0.4</td>\n",
       "      <td>2.22</td>\n",
       "      <td>-17.78</td>\n",
       "      <td>0.56</td>\n",
       "      <td>2.78</td>\n",
       "    </tr>\n",
       "    <tr>\n",
       "      <th>2023-11-02</th>\n",
       "      <td>Helsinki Airport</td>\n",
       "      <td>FIE00142080</td>\n",
       "      <td>0.01</td>\n",
       "      <td>0.4</td>\n",
       "      <td>0.00</td>\n",
       "      <td>2.78</td>\n",
       "      <td>-2.78</td>\n",
       "      <td>-17.78</td>\n",
       "    </tr>\n",
       "    <tr>\n",
       "      <th>2023-11-03</th>\n",
       "      <td>Helsinki Airport</td>\n",
       "      <td>FIE00142080</td>\n",
       "      <td>0.00</td>\n",
       "      <td>0.4</td>\n",
       "      <td>3.89</td>\n",
       "      <td>-17.78</td>\n",
       "      <td>-2.78</td>\n",
       "      <td>-17.78</td>\n",
       "    </tr>\n",
       "    <tr>\n",
       "      <th>2023-11-04</th>\n",
       "      <td>Helsinki Airport</td>\n",
       "      <td>FIE00142080</td>\n",
       "      <td>0.47</td>\n",
       "      <td>0.4</td>\n",
       "      <td>7.78</td>\n",
       "      <td>-17.78</td>\n",
       "      <td>-17.78</td>\n",
       "      <td>8.89</td>\n",
       "    </tr>\n",
       "    <tr>\n",
       "      <th>2023-11-05</th>\n",
       "      <td>Helsinki Airport</td>\n",
       "      <td>FIE00142080</td>\n",
       "      <td>0.01</td>\n",
       "      <td>0.4</td>\n",
       "      <td>7.22</td>\n",
       "      <td>8.89</td>\n",
       "      <td>2.78</td>\n",
       "      <td>NaN</td>\n",
       "    </tr>\n",
       "  </tbody>\n",
       "</table>\n",
       "<p>6579 rows × 8 columns</p>\n",
       "</div>"
      ],
      "text/plain": [
       "                         loc      station  prcp  snwd  tavg   tmax   tmin  \\\n",
       "DATE                                                                        \n",
       "2005-11-01  Helsinki Airport  FIE00142080  0.00   0.0  6.67   7.22   4.44   \n",
       "2005-11-02  Helsinki Airport  FIE00142080  0.00   0.0  6.67   7.22   5.00   \n",
       "2005-11-03  Helsinki Airport  FIE00142080  0.00   0.0  8.89  10.00   6.67   \n",
       "2005-11-04  Helsinki Airport  FIE00142080  0.04   0.0  7.78   8.33   5.00   \n",
       "2005-11-05  Helsinki Airport  FIE00142080  0.22   0.0  8.33   9.44   7.22   \n",
       "...                      ...          ...   ...   ...   ...    ...    ...   \n",
       "2023-11-01  Helsinki Airport  FIE00142080  0.28   0.4  2.22 -17.78   0.56   \n",
       "2023-11-02  Helsinki Airport  FIE00142080  0.01   0.4  0.00   2.78  -2.78   \n",
       "2023-11-03  Helsinki Airport  FIE00142080  0.00   0.4  3.89 -17.78  -2.78   \n",
       "2023-11-04  Helsinki Airport  FIE00142080  0.47   0.4  7.78 -17.78 -17.78   \n",
       "2023-11-05  Helsinki Airport  FIE00142080  0.01   0.4  7.22   8.89   2.78   \n",
       "\n",
       "            target  \n",
       "DATE                \n",
       "2005-11-01    7.22  \n",
       "2005-11-02   10.00  \n",
       "2005-11-03    8.33  \n",
       "2005-11-04    9.44  \n",
       "2005-11-05    9.44  \n",
       "...            ...  \n",
       "2023-11-01    2.78  \n",
       "2023-11-02  -17.78  \n",
       "2023-11-03  -17.78  \n",
       "2023-11-04    8.89  \n",
       "2023-11-05     NaN  \n",
       "\n",
       "[6579 rows x 8 columns]"
      ]
     },
     "execution_count": 22,
     "metadata": {},
     "output_type": "execute_result"
    }
   ],
   "source": [
    "# New column has been added\n",
    "weather"
   ]
  },
  {
   "cell_type": "code",
   "execution_count": 23,
   "id": "8b798f71",
   "metadata": {},
   "outputs": [
    {
     "data": {
      "text/html": [
       "<div>\n",
       "<style scoped>\n",
       "    .dataframe tbody tr th:only-of-type {\n",
       "        vertical-align: middle;\n",
       "    }\n",
       "\n",
       "    .dataframe tbody tr th {\n",
       "        vertical-align: top;\n",
       "    }\n",
       "\n",
       "    .dataframe thead th {\n",
       "        text-align: right;\n",
       "    }\n",
       "</style>\n",
       "<table border=\"1\" class=\"dataframe\">\n",
       "  <thead>\n",
       "    <tr style=\"text-align: right;\">\n",
       "      <th></th>\n",
       "      <th>loc</th>\n",
       "      <th>station</th>\n",
       "      <th>prcp</th>\n",
       "      <th>snwd</th>\n",
       "      <th>tavg</th>\n",
       "      <th>tmax</th>\n",
       "      <th>tmin</th>\n",
       "      <th>target</th>\n",
       "    </tr>\n",
       "    <tr>\n",
       "      <th>DATE</th>\n",
       "      <th></th>\n",
       "      <th></th>\n",
       "      <th></th>\n",
       "      <th></th>\n",
       "      <th></th>\n",
       "      <th></th>\n",
       "      <th></th>\n",
       "      <th></th>\n",
       "    </tr>\n",
       "  </thead>\n",
       "  <tbody>\n",
       "    <tr>\n",
       "      <th>2005-11-01</th>\n",
       "      <td>Helsinki Airport</td>\n",
       "      <td>FIE00142080</td>\n",
       "      <td>0.00</td>\n",
       "      <td>0.0</td>\n",
       "      <td>6.67</td>\n",
       "      <td>7.22</td>\n",
       "      <td>4.44</td>\n",
       "      <td>7.22</td>\n",
       "    </tr>\n",
       "    <tr>\n",
       "      <th>2005-11-02</th>\n",
       "      <td>Helsinki Airport</td>\n",
       "      <td>FIE00142080</td>\n",
       "      <td>0.00</td>\n",
       "      <td>0.0</td>\n",
       "      <td>6.67</td>\n",
       "      <td>7.22</td>\n",
       "      <td>5.00</td>\n",
       "      <td>10.00</td>\n",
       "    </tr>\n",
       "    <tr>\n",
       "      <th>2005-11-03</th>\n",
       "      <td>Helsinki Airport</td>\n",
       "      <td>FIE00142080</td>\n",
       "      <td>0.00</td>\n",
       "      <td>0.0</td>\n",
       "      <td>8.89</td>\n",
       "      <td>10.00</td>\n",
       "      <td>6.67</td>\n",
       "      <td>8.33</td>\n",
       "    </tr>\n",
       "    <tr>\n",
       "      <th>2005-11-04</th>\n",
       "      <td>Helsinki Airport</td>\n",
       "      <td>FIE00142080</td>\n",
       "      <td>0.04</td>\n",
       "      <td>0.0</td>\n",
       "      <td>7.78</td>\n",
       "      <td>8.33</td>\n",
       "      <td>5.00</td>\n",
       "      <td>9.44</td>\n",
       "    </tr>\n",
       "    <tr>\n",
       "      <th>2005-11-05</th>\n",
       "      <td>Helsinki Airport</td>\n",
       "      <td>FIE00142080</td>\n",
       "      <td>0.22</td>\n",
       "      <td>0.0</td>\n",
       "      <td>8.33</td>\n",
       "      <td>9.44</td>\n",
       "      <td>7.22</td>\n",
       "      <td>9.44</td>\n",
       "    </tr>\n",
       "    <tr>\n",
       "      <th>...</th>\n",
       "      <td>...</td>\n",
       "      <td>...</td>\n",
       "      <td>...</td>\n",
       "      <td>...</td>\n",
       "      <td>...</td>\n",
       "      <td>...</td>\n",
       "      <td>...</td>\n",
       "      <td>...</td>\n",
       "    </tr>\n",
       "    <tr>\n",
       "      <th>2023-11-01</th>\n",
       "      <td>Helsinki Airport</td>\n",
       "      <td>FIE00142080</td>\n",
       "      <td>0.28</td>\n",
       "      <td>0.4</td>\n",
       "      <td>2.22</td>\n",
       "      <td>-17.78</td>\n",
       "      <td>0.56</td>\n",
       "      <td>2.78</td>\n",
       "    </tr>\n",
       "    <tr>\n",
       "      <th>2023-11-02</th>\n",
       "      <td>Helsinki Airport</td>\n",
       "      <td>FIE00142080</td>\n",
       "      <td>0.01</td>\n",
       "      <td>0.4</td>\n",
       "      <td>0.00</td>\n",
       "      <td>2.78</td>\n",
       "      <td>-2.78</td>\n",
       "      <td>-17.78</td>\n",
       "    </tr>\n",
       "    <tr>\n",
       "      <th>2023-11-03</th>\n",
       "      <td>Helsinki Airport</td>\n",
       "      <td>FIE00142080</td>\n",
       "      <td>0.00</td>\n",
       "      <td>0.4</td>\n",
       "      <td>3.89</td>\n",
       "      <td>-17.78</td>\n",
       "      <td>-2.78</td>\n",
       "      <td>-17.78</td>\n",
       "    </tr>\n",
       "    <tr>\n",
       "      <th>2023-11-04</th>\n",
       "      <td>Helsinki Airport</td>\n",
       "      <td>FIE00142080</td>\n",
       "      <td>0.47</td>\n",
       "      <td>0.4</td>\n",
       "      <td>7.78</td>\n",
       "      <td>-17.78</td>\n",
       "      <td>-17.78</td>\n",
       "      <td>8.89</td>\n",
       "    </tr>\n",
       "    <tr>\n",
       "      <th>2023-11-05</th>\n",
       "      <td>Helsinki Airport</td>\n",
       "      <td>FIE00142080</td>\n",
       "      <td>0.01</td>\n",
       "      <td>0.4</td>\n",
       "      <td>7.22</td>\n",
       "      <td>8.89</td>\n",
       "      <td>2.78</td>\n",
       "      <td>8.89</td>\n",
       "    </tr>\n",
       "  </tbody>\n",
       "</table>\n",
       "<p>6579 rows × 8 columns</p>\n",
       "</div>"
      ],
      "text/plain": [
       "                         loc      station  prcp  snwd  tavg   tmax   tmin  \\\n",
       "DATE                                                                        \n",
       "2005-11-01  Helsinki Airport  FIE00142080  0.00   0.0  6.67   7.22   4.44   \n",
       "2005-11-02  Helsinki Airport  FIE00142080  0.00   0.0  6.67   7.22   5.00   \n",
       "2005-11-03  Helsinki Airport  FIE00142080  0.00   0.0  8.89  10.00   6.67   \n",
       "2005-11-04  Helsinki Airport  FIE00142080  0.04   0.0  7.78   8.33   5.00   \n",
       "2005-11-05  Helsinki Airport  FIE00142080  0.22   0.0  8.33   9.44   7.22   \n",
       "...                      ...          ...   ...   ...   ...    ...    ...   \n",
       "2023-11-01  Helsinki Airport  FIE00142080  0.28   0.4  2.22 -17.78   0.56   \n",
       "2023-11-02  Helsinki Airport  FIE00142080  0.01   0.4  0.00   2.78  -2.78   \n",
       "2023-11-03  Helsinki Airport  FIE00142080  0.00   0.4  3.89 -17.78  -2.78   \n",
       "2023-11-04  Helsinki Airport  FIE00142080  0.47   0.4  7.78 -17.78 -17.78   \n",
       "2023-11-05  Helsinki Airport  FIE00142080  0.01   0.4  7.22   8.89   2.78   \n",
       "\n",
       "            target  \n",
       "DATE                \n",
       "2005-11-01    7.22  \n",
       "2005-11-02   10.00  \n",
       "2005-11-03    8.33  \n",
       "2005-11-04    9.44  \n",
       "2005-11-05    9.44  \n",
       "...            ...  \n",
       "2023-11-01    2.78  \n",
       "2023-11-02  -17.78  \n",
       "2023-11-03  -17.78  \n",
       "2023-11-04    8.89  \n",
       "2023-11-05    8.89  \n",
       "\n",
       "[6579 rows x 8 columns]"
      ]
     },
     "execution_count": 23,
     "metadata": {},
     "output_type": "execute_result"
    }
   ],
   "source": [
    "# Filling the NaN values\n",
    "weather.ffill()"
   ]
  },
  {
   "cell_type": "code",
   "execution_count": 24,
   "id": "1c6d41fc",
   "metadata": {},
   "outputs": [],
   "source": [
    "## Building the model"
   ]
  },
  {
   "cell_type": "code",
   "execution_count": 25,
   "id": "a87f917c",
   "metadata": {},
   "outputs": [],
   "source": [
    "rr = Ridge(alpha=0.1)"
   ]
  },
  {
   "cell_type": "code",
   "execution_count": 26,
   "id": "3f39c3b6",
   "metadata": {},
   "outputs": [],
   "source": [
    "# Removing the columns that we do not need\n",
    "predictors = weather.columns[~weather.columns.isin([\"target\", \"loc\", \"station\"])]"
   ]
  },
  {
   "cell_type": "code",
   "execution_count": 27,
   "id": "2c073a12",
   "metadata": {},
   "outputs": [
    {
     "data": {
      "text/plain": [
       "Index(['prcp', 'snwd', 'tavg', 'tmax', 'tmin'], dtype='object')"
      ]
     },
     "execution_count": 27,
     "metadata": {},
     "output_type": "execute_result"
    }
   ],
   "source": [
    "predictors"
   ]
  },
  {
   "cell_type": "code",
   "execution_count": 28,
   "id": "3999465c",
   "metadata": {},
   "outputs": [],
   "source": [
    "# Function for backtesting a machine learning model on time-series weather data\n",
    "def backtest(weather, model, predictors, start=1156, step=60):\n",
    "    all_predictions = []\n",
    "    \n",
    "    # Iterate through the data, training the model on past data and predicting on future data\n",
    "    for i in range(start, weather.shape[0], step):\n",
    "        train = weather.iloc[:i, :]\n",
    "        test = weather.iloc[i:(i+step), :]\n",
    "        \n",
    "        # Train the machine learning model on the training data\n",
    "        model.fit(train[predictors], train[\"target\"])\n",
    "        # Make predictions on the test set, calculate the absolute difference, and handle missing values\n",
    "        preds = model.predict(test[predictors])\n",
    "        preds = pd.Series(preds, index=test.index)\n",
    "        combined = pd.concat([test[\"target\"], preds], axis=1)\n",
    "        combined.columns = [\"actual\", \"prediction\"]        \n",
    "        combined[\"diff\"] = (combined[\"prediction\"] - combined[\"actual\"]).abs()\n",
    "        combined[\"actual\"].fillna(method='ffill', inplace=True)\n",
    "        combined[\"diff\"].fillna(0, inplace=True)\n",
    "        \n",
    "        all_predictions.append(combined)\n",
    "    return pd.concat(all_predictions)"
   ]
  },
  {
   "cell_type": "code",
   "execution_count": 29,
   "id": "9c123853",
   "metadata": {},
   "outputs": [],
   "source": [
    "# Generate predictions using the backtest function for the specified weather data, Ridge model (rr), and predictors\n",
    "predictions = backtest(weather, rr, predictors)"
   ]
  },
  {
   "cell_type": "code",
   "execution_count": 30,
   "id": "0fae2b03",
   "metadata": {
    "scrolled": true
   },
   "outputs": [
    {
     "data": {
      "text/html": [
       "<div>\n",
       "<style scoped>\n",
       "    .dataframe tbody tr th:only-of-type {\n",
       "        vertical-align: middle;\n",
       "    }\n",
       "\n",
       "    .dataframe tbody tr th {\n",
       "        vertical-align: top;\n",
       "    }\n",
       "\n",
       "    .dataframe thead th {\n",
       "        text-align: right;\n",
       "    }\n",
       "</style>\n",
       "<table border=\"1\" class=\"dataframe\">\n",
       "  <thead>\n",
       "    <tr style=\"text-align: right;\">\n",
       "      <th></th>\n",
       "      <th>actual</th>\n",
       "      <th>prediction</th>\n",
       "      <th>diff</th>\n",
       "    </tr>\n",
       "    <tr>\n",
       "      <th>DATE</th>\n",
       "      <th></th>\n",
       "      <th></th>\n",
       "      <th></th>\n",
       "    </tr>\n",
       "  </thead>\n",
       "  <tbody>\n",
       "    <tr>\n",
       "      <th>2008-12-31</th>\n",
       "      <td>-0.56</td>\n",
       "      <td>0.985922</td>\n",
       "      <td>1.545922</td>\n",
       "    </tr>\n",
       "    <tr>\n",
       "      <th>2009-01-01</th>\n",
       "      <td>-7.78</td>\n",
       "      <td>-1.701296</td>\n",
       "      <td>6.078704</td>\n",
       "    </tr>\n",
       "    <tr>\n",
       "      <th>2009-01-02</th>\n",
       "      <td>-9.44</td>\n",
       "      <td>-7.730077</td>\n",
       "      <td>1.709923</td>\n",
       "    </tr>\n",
       "    <tr>\n",
       "      <th>2009-01-03</th>\n",
       "      <td>-7.78</td>\n",
       "      <td>-8.165426</td>\n",
       "      <td>0.385426</td>\n",
       "    </tr>\n",
       "    <tr>\n",
       "      <th>2009-01-04</th>\n",
       "      <td>-7.78</td>\n",
       "      <td>-7.468013</td>\n",
       "      <td>0.311987</td>\n",
       "    </tr>\n",
       "    <tr>\n",
       "      <th>...</th>\n",
       "      <td>...</td>\n",
       "      <td>...</td>\n",
       "      <td>...</td>\n",
       "    </tr>\n",
       "    <tr>\n",
       "      <th>2023-11-01</th>\n",
       "      <td>2.78</td>\n",
       "      <td>-5.724659</td>\n",
       "      <td>8.504659</td>\n",
       "    </tr>\n",
       "    <tr>\n",
       "      <th>2023-11-02</th>\n",
       "      <td>-17.78</td>\n",
       "      <td>3.168000</td>\n",
       "      <td>20.948000</td>\n",
       "    </tr>\n",
       "    <tr>\n",
       "      <th>2023-11-03</th>\n",
       "      <td>-17.78</td>\n",
       "      <td>-3.087922</td>\n",
       "      <td>14.692078</td>\n",
       "    </tr>\n",
       "    <tr>\n",
       "      <th>2023-11-04</th>\n",
       "      <td>8.89</td>\n",
       "      <td>4.339853</td>\n",
       "      <td>4.550147</td>\n",
       "    </tr>\n",
       "    <tr>\n",
       "      <th>2023-11-05</th>\n",
       "      <td>8.89</td>\n",
       "      <td>10.294070</td>\n",
       "      <td>0.000000</td>\n",
       "    </tr>\n",
       "  </tbody>\n",
       "</table>\n",
       "<p>5423 rows × 3 columns</p>\n",
       "</div>"
      ],
      "text/plain": [
       "            actual  prediction       diff\n",
       "DATE                                     \n",
       "2008-12-31   -0.56    0.985922   1.545922\n",
       "2009-01-01   -7.78   -1.701296   6.078704\n",
       "2009-01-02   -9.44   -7.730077   1.709923\n",
       "2009-01-03   -7.78   -8.165426   0.385426\n",
       "2009-01-04   -7.78   -7.468013   0.311987\n",
       "...            ...         ...        ...\n",
       "2023-11-01    2.78   -5.724659   8.504659\n",
       "2023-11-02  -17.78    3.168000  20.948000\n",
       "2023-11-03  -17.78   -3.087922  14.692078\n",
       "2023-11-04    8.89    4.339853   4.550147\n",
       "2023-11-05    8.89   10.294070   0.000000\n",
       "\n",
       "[5423 rows x 3 columns]"
      ]
     },
     "execution_count": 30,
     "metadata": {},
     "output_type": "execute_result"
    }
   ],
   "source": [
    "predictions"
   ]
  },
  {
   "cell_type": "code",
   "execution_count": 31,
   "id": "74aa26d9",
   "metadata": {},
   "outputs": [],
   "source": [
    "## Checking the accuracy of the model"
   ]
  },
  {
   "cell_type": "code",
   "execution_count": 32,
   "id": "e176f8f9",
   "metadata": {},
   "outputs": [
    {
     "data": {
      "text/plain": [
       "2.060307545308977"
      ]
     },
     "execution_count": 32,
     "metadata": {},
     "output_type": "execute_result"
    }
   ],
   "source": [
    "mean_absolute_error(predictions[\"actual\"], predictions[\"prediction\"])"
   ]
  },
  {
   "cell_type": "code",
   "execution_count": 33,
   "id": "ec6253cc",
   "metadata": {},
   "outputs": [
    {
     "data": {
      "text/plain": [
       "9.043578842444797"
      ]
     },
     "execution_count": 33,
     "metadata": {},
     "output_type": "execute_result"
    }
   ],
   "source": [
    "mean_squared_error(predictions[\"actual\"], predictions[\"prediction\"])"
   ]
  },
  {
   "cell_type": "code",
   "execution_count": 34,
   "id": "216df173",
   "metadata": {
    "scrolled": false
   },
   "outputs": [
    {
     "data": {
      "text/html": [
       "<div>\n",
       "<style scoped>\n",
       "    .dataframe tbody tr th:only-of-type {\n",
       "        vertical-align: middle;\n",
       "    }\n",
       "\n",
       "    .dataframe tbody tr th {\n",
       "        vertical-align: top;\n",
       "    }\n",
       "\n",
       "    .dataframe thead th {\n",
       "        text-align: right;\n",
       "    }\n",
       "</style>\n",
       "<table border=\"1\" class=\"dataframe\">\n",
       "  <thead>\n",
       "    <tr style=\"text-align: right;\">\n",
       "      <th></th>\n",
       "      <th>actual</th>\n",
       "      <th>prediction</th>\n",
       "      <th>diff</th>\n",
       "    </tr>\n",
       "    <tr>\n",
       "      <th>DATE</th>\n",
       "      <th></th>\n",
       "      <th></th>\n",
       "      <th></th>\n",
       "    </tr>\n",
       "  </thead>\n",
       "  <tbody>\n",
       "    <tr>\n",
       "      <th>2018-05-30</th>\n",
       "      <td>-17.78</td>\n",
       "      <td>23.171790</td>\n",
       "      <td>40.951790</td>\n",
       "    </tr>\n",
       "    <tr>\n",
       "      <th>2023-10-04</th>\n",
       "      <td>-17.78</td>\n",
       "      <td>21.697772</td>\n",
       "      <td>39.477772</td>\n",
       "    </tr>\n",
       "    <tr>\n",
       "      <th>2018-09-06</th>\n",
       "      <td>-17.78</td>\n",
       "      <td>20.754305</td>\n",
       "      <td>38.534305</td>\n",
       "    </tr>\n",
       "    <tr>\n",
       "      <th>2018-09-02</th>\n",
       "      <td>-17.78</td>\n",
       "      <td>20.184842</td>\n",
       "      <td>37.964842</td>\n",
       "    </tr>\n",
       "    <tr>\n",
       "      <th>2023-10-02</th>\n",
       "      <td>-17.78</td>\n",
       "      <td>15.555117</td>\n",
       "      <td>33.335117</td>\n",
       "    </tr>\n",
       "    <tr>\n",
       "      <th>...</th>\n",
       "      <td>...</td>\n",
       "      <td>...</td>\n",
       "      <td>...</td>\n",
       "    </tr>\n",
       "    <tr>\n",
       "      <th>2014-05-12</th>\n",
       "      <td>11.67</td>\n",
       "      <td>11.668219</td>\n",
       "      <td>0.001781</td>\n",
       "    </tr>\n",
       "    <tr>\n",
       "      <th>2016-04-14</th>\n",
       "      <td>7.22</td>\n",
       "      <td>7.221657</td>\n",
       "      <td>0.001657</td>\n",
       "    </tr>\n",
       "    <tr>\n",
       "      <th>2014-10-27</th>\n",
       "      <td>12.22</td>\n",
       "      <td>12.219461</td>\n",
       "      <td>0.000539</td>\n",
       "    </tr>\n",
       "    <tr>\n",
       "      <th>2023-07-06</th>\n",
       "      <td>20.56</td>\n",
       "      <td>20.560334</td>\n",
       "      <td>0.000334</td>\n",
       "    </tr>\n",
       "    <tr>\n",
       "      <th>2023-11-05</th>\n",
       "      <td>8.89</td>\n",
       "      <td>10.294070</td>\n",
       "      <td>0.000000</td>\n",
       "    </tr>\n",
       "  </tbody>\n",
       "</table>\n",
       "<p>5423 rows × 3 columns</p>\n",
       "</div>"
      ],
      "text/plain": [
       "            actual  prediction       diff\n",
       "DATE                                     \n",
       "2018-05-30  -17.78   23.171790  40.951790\n",
       "2023-10-04  -17.78   21.697772  39.477772\n",
       "2018-09-06  -17.78   20.754305  38.534305\n",
       "2018-09-02  -17.78   20.184842  37.964842\n",
       "2023-10-02  -17.78   15.555117  33.335117\n",
       "...            ...         ...        ...\n",
       "2014-05-12   11.67   11.668219   0.001781\n",
       "2016-04-14    7.22    7.221657   0.001657\n",
       "2014-10-27   12.22   12.219461   0.000539\n",
       "2023-07-06   20.56   20.560334   0.000334\n",
       "2023-11-05    8.89   10.294070   0.000000\n",
       "\n",
       "[5423 rows x 3 columns]"
      ]
     },
     "execution_count": 34,
     "metadata": {},
     "output_type": "execute_result"
    }
   ],
   "source": [
    "predictions.sort_values(\"diff\", ascending=False)"
   ]
  },
  {
   "cell_type": "code",
   "execution_count": 35,
   "id": "56f89645",
   "metadata": {},
   "outputs": [],
   "source": [
    "## Visualising the model's performance"
   ]
  },
  {
   "cell_type": "code",
   "execution_count": 36,
   "id": "2eb50c3c",
   "metadata": {},
   "outputs": [
    {
     "data": {
      "image/png": "[encoded data removed]",
      "text/plain": [
       "<Figure size 1200x600 with 1 Axes>"
      ]
     },
     "metadata": {},
     "output_type": "display_data"
    }
   ],
   "source": [
    "# Plotting the actual and predicted values\n",
    "plt.figure(figsize=(12, 6))\n",
    "plt.plot(predictions.index, predictions['actual'], label='Actual', marker='o', color='red')\n",
    "plt.plot(predictions.index, predictions['prediction'], label='Prediction', marker='o', color='blue')\n",
    "plt.title('Actual vs Predicted TMAX')\n",
    "plt.xlabel('Date')\n",
    "plt.ylabel('Temperature (TMAX)')\n",
    "plt.legend()\n",
    "plt.grid(True)\n",
    "plt.show()"
   ]
  },
  {
   "cell_type": "code",
   "execution_count": 37,
   "id": "cf926bc1",
   "metadata": {},
   "outputs": [
    {
     "data": {
      "image/png": "[encoded data removed]",
      "text/plain": [
       "<Figure size 1200x600 with 1 Axes>"
      ]
     },
     "metadata": {},
     "output_type": "display_data"
    }
   ],
   "source": [
    "# Plotting the differences\n",
    "plt.figure(figsize=(12, 6))\n",
    "plt.plot(predictions.index, predictions['diff'], label='Absolute Difference', color='red', marker='o')\n",
    "plt.title('Absolute Difference between Actual and Predicted TMAX')\n",
    "plt.xlabel('Date')\n",
    "plt.ylabel('Absolute Difference')\n",
    "plt.legend()\n",
    "plt.grid(True)\n",
    "plt.show()"
   ]
  },
  {
   "cell_type": "code",
   "execution_count": null,
   "id": "f0ef4ac0",
   "metadata": {},
   "outputs": [],
   "source": []
  }
 ],
 "metadata": {
  "kernelspec": {
   "display_name": "Python 3 (ipykernel)",
   "language": "python",
   "name": "python3"
  },
  "language_info": {
   "codemirror_mode": {
    "name": "ipython",
    "version": 3
   },
   "file_extension": ".py",
   "mimetype": "text/x-python",
   "name": "python",
   "nbconvert_exporter": "python",
   "pygments_lexer": "ipython3",
   "version": "3.11.3"
  }
 },
 "nbformat": 4,
 "nbformat_minor": 5
}
