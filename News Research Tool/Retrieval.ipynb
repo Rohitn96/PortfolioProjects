{
 "cells": [
  {
   "cell_type": "code",
   "execution_count": 1,
   "id": "e19576c2-242d-4c03-ba70-fc6db49ca3c3",
   "metadata": {},
   "outputs": [],
   "source": [
    "import os\n",
    "import streamlit as st\n",
    "import pickle\n",
    "import time\n",
    "import faiss \n",
    "import langchain\n",
    "from langchain import OpenAI\n",
    "from langchain.chains import RetrievalQAWithSourcesChain\n",
    "from langchain.chains.qa_with_sources.loading import load_qa_with_sources_chain\n",
    "from langchain.text_splitter import RecursiveCharacterTextSplitter\n",
    "from langchain.document_loaders import UnstructuredURLLoader\n",
    "from langchain.embeddings import OpenAIEmbeddings\n",
    "from langchain.vectorstores import FAISS\n",
    "from langchain_openai import OpenAIEmbeddings\n",
    "from langchain_openai import OpenAI"
   ]
  },
  {
   "cell_type": "code",
   "execution_count": 3,
   "id": "bb00c0d5-cf6f-4eb4-ab38-94d7ab3b974f",
   "metadata": {},
   "outputs": [],
   "source": [
    "#load openAI api key\n",
    "os.environ['OPENAI_API_KEY'] = 'Your_OPEN_AI_KEY'"
   ]
  },
  {
   "cell_type": "code",
   "execution_count": 5,
   "id": "cf2ebd78-98ed-4549-8160-a3774519d7fc",
   "metadata": {},
   "outputs": [],
   "source": [
    "# Initialise LLM with required params\n",
    "llm = OpenAI(temperature=0.9, max_tokens=500)"
   ]
  },
  {
   "cell_type": "code",
   "execution_count": 9,
   "id": "6c95cc57-6309-4de4-b6aa-67e158a4594f",
   "metadata": {},
   "outputs": [],
   "source": [
    "# Step 1 - Load Data"
   ]
  },
  {
   "cell_type": "code",
   "execution_count": 7,
   "id": "a0dc25bb-25d8-42bd-8627-f232734f6c52",
   "metadata": {},
   "outputs": [
    {
     "data": {
      "text/plain": [
       "2"
      ]
     },
     "execution_count": 7,
     "metadata": {},
     "output_type": "execute_result"
    }
   ],
   "source": [
    "loaders = UnstructuredURLLoader(urls=[\n",
    "    \"https://www.helsinkitimes.fi/finland/finland-news/domestic/25545-finnish-labor-market-faces-dual-challenges-employment-levels-steady-but-long-term-unemployment-rises.html\",\n",
    "    \"https://www.helsinkitimes.fi/finland/finland-news/domestic/25516-finland-s-rising-unemployment-bucks-eu-trend.html\"\n",
    "])\n",
    "data = loaders.load() \n",
    "len(data)"
   ]
  },
  {
   "cell_type": "code",
   "execution_count": 7,
   "id": "ed40e0b7-9203-4f19-8b82-99362e006f59",
   "metadata": {},
   "outputs": [],
   "source": [
    "# Step 2 -  Split data to create chunks"
   ]
  },
  {
   "cell_type": "code",
   "execution_count": 8,
   "id": "6ecf973a-2d1e-4983-a0e5-e17e3682bc15",
   "metadata": {},
   "outputs": [],
   "source": [
    "text_splitter = RecursiveCharacterTextSplitter(\n",
    "    chunk_size=1000,\n",
    "    chunk_overlap=200\n",
    ")\n",
    "\n",
    "# As data is of type documents we can directly use split_documents over split_text in order to get the chunks.\n",
    "docs = text_splitter.split_documents(data)"
   ]
  },
  {
   "cell_type": "code",
   "execution_count": 9,
   "id": "2e1d5a1d-8903-47ea-b5b4-2ee904d3d890",
   "metadata": {},
   "outputs": [
    {
     "data": {
      "text/plain": [
       "15"
      ]
     },
     "execution_count": 9,
     "metadata": {},
     "output_type": "execute_result"
    }
   ],
   "source": [
    "len(docs)"
   ]
  },
  {
   "cell_type": "code",
   "execution_count": 10,
   "id": "9c3f2a18-82af-4a91-9914-7428153690fb",
   "metadata": {
    "scrolled": true
   },
   "outputs": [
    {
     "data": {
      "text/plain": [
       "Document(metadata={'source': 'https://www.helsinkitimes.fi/finland/finland-news/domestic/25545-finnish-labor-market-faces-dual-challenges-employment-levels-steady-but-long-term-unemployment-rises.html'}, page_content='Sidebar\\n\\nFinland\\n\\nFinland news\\n\\nDomestic\\n\\nPolitics\\n\\nFrom the Finnish press\\n\\nNews in brief\\n\\nLifestyle\\n\\nEat and Drink\\n\\nThemes\\n\\nThemes\\n\\nTravel\\n\\nCountry Promotion\\n\\nScience and technology\\n\\nHealth & wellbeing\\n\\nEducation\\n\\nHousing\\n\\nSports\\n\\nBeijing 2022\\n\\nBusiness\\n\\nColumns\\n\\nColumns\\n\\nViewpoint\\n\\nExpatview\\n\\nQ&A\\n\\nWorld\\n\\nWorld news\\n\\nInternational news\\n\\nFinland in the world press\\n\\nCulture\\n\\nHelsinkiTimes\\n\\nHELSINKI FINLAND\\n\\n28\\n\\nWed, Aug\\n\\nFinnish labor market faces dual challenges: Employment levels steady, but long-term unemployment rises\\n\\nAn employee at an office in Helsinki on August 5, 2024. LEHTIKUVA\\n\\nDomestic\\n\\nPrevious Article Alcohol-related healthcare costs in Finland could reach €1.1 billion annually, new report reveals\\n\\nNext Article Union: Finland should expand doctoral programmes to universities of applied sciences\\n\\nTools\\n\\nPrint\\n\\nTypography\\n\\nFont Size\\n\\nDefault\\n\\nReading Mode')"
      ]
     },
     "execution_count": 10,
     "metadata": {},
     "output_type": "execute_result"
    }
   ],
   "source": [
    "docs[0]"
   ]
  },
  {
   "cell_type": "code",
   "execution_count": null,
   "id": "f5658837-deb1-4d74-83c1-03c5451b641b",
   "metadata": {},
   "outputs": [],
   "source": [
    "# Step 3 - Create embeddings for these chunks and save them to FAISS index"
   ]
  },
  {
   "cell_type": "code",
   "execution_count": 46,
   "id": "9d4f203c-35e7-489b-8b3c-701aedd8be90",
   "metadata": {},
   "outputs": [],
   "source": [
    "file_path = \"vector_index.pkl\"\n",
    "if os.path.exists(file_path):\n",
    "    with open(file_path, \"rb\") as f:\n",
    "        vectorIndex = pickle.load(f)\n",
    "else:\n",
    "    # Generate embeddings using OpenAIEmbeddings\n",
    "    embeddings = OpenAIEmbeddings()\n",
    "    vectorIndex = FAISS.from_documents(docs, embeddings)\n",
    "    \n",
    "    # Save the FAISS index to a file\n",
    "    with open(file_path, \"wb\") as f:\n",
    "        pickle.dump(vectorIndex, f)"
   ]
  },
  {
   "cell_type": "code",
   "execution_count": null,
   "id": "bc674057-8db2-464b-8c58-3173736f5e9c",
   "metadata": {},
   "outputs": [],
   "source": [
    "#Step 4 - Retrieve similar embeddings for a given question and call LLM to retrieve final answer"
   ]
  },
  {
   "cell_type": "code",
   "execution_count": 80,
   "id": "2658aeaf-0a92-4f92-be18-ab63f1dfd460",
   "metadata": {},
   "outputs": [
    {
     "ename": "AttributeError",
     "evalue": "'IndexFlatL2' object has no attribute 'as_retriever'",
     "output_type": "error",
     "traceback": [
      "\u001B[1;31m---------------------------------------------------------------------------\u001B[0m",
      "\u001B[1;31mAttributeError\u001B[0m                            Traceback (most recent call last)",
      "Cell \u001B[1;32mIn[80], line 1\u001B[0m\n\u001B[1;32m----> 1\u001B[0m retriever \u001B[38;5;241m=\u001B[39m vectorIndex\u001B[38;5;241m.\u001B[39mas_retriever()\n\u001B[0;32m      2\u001B[0m chain \u001B[38;5;241m=\u001B[39m RetrievalQAWithSourcesChain\u001B[38;5;241m.\u001B[39mfrom_llm(llm\u001B[38;5;241m=\u001B[39mllm, retriever\u001B[38;5;241m=\u001B[39mretriever)\n",
      "\u001B[1;31mAttributeError\u001B[0m: 'IndexFlatL2' object has no attribute 'as_retriever'"
     ]
    }
   ],
   "source": [
    "retriever = vectorIndex.as_retriever()\n",
    "chain = RetrievalQAWithSourcesChain.from_llm(llm=llm, retriever=retriever)"
   ]
  },
  {
   "cell_type": "code",
   "execution_count": 60,
   "id": "10ff82b9-f3c7-43c8-8e94-4419e271c50b",
   "metadata": {},
   "outputs": [],
   "source": [
    "query = \"What is the current unemployment rate in Finland?\"\n"
   ]
  },
  {
   "cell_type": "code",
   "execution_count": 62,
   "id": "e195f73f-dede-4e28-8b48-523f3235aba1",
   "metadata": {},
   "outputs": [],
   "source": [
    "langchain.debug = True\n"
   ]
  },
  {
   "cell_type": "code",
   "execution_count": 68,
   "id": "06834c3f-50a1-47f3-8571-45d630c8dd61",
   "metadata": {},
   "outputs": [
    {
     "ename": "NameError",
     "evalue": "name 'chain' is not defined",
     "output_type": "error",
     "traceback": [
      "\u001B[1;31m---------------------------------------------------------------------------\u001B[0m",
      "\u001B[1;31mNameError\u001B[0m                                 Traceback (most recent call last)",
      "Cell \u001B[1;32mIn[68], line 1\u001B[0m\n\u001B[1;32m----> 1\u001B[0m result \u001B[38;5;241m=\u001B[39m chain({\u001B[38;5;124m\"\u001B[39m\u001B[38;5;124mquestion\u001B[39m\u001B[38;5;124m\"\u001B[39m: query}, return_only_outputs\u001B[38;5;241m=\u001B[39m\u001B[38;5;28;01mTrue\u001B[39;00m)\n",
      "\u001B[1;31mNameError\u001B[0m: name 'chain' is not defined"
     ]
    }
   ],
   "source": [
    "result = chain({\"question\": query}, return_only_outputs=True)"
   ]
  },
  {
   "cell_type": "code",
   "execution_count": null,
   "id": "8eff093f-ccec-4748-bb10-9a7c06642f9b",
   "metadata": {},
   "outputs": [],
   "source": []
  }
 ],
 "metadata": {
  "kernelspec": {
   "display_name": "Python 3 (ipykernel)",
   "language": "python",
   "name": "python3"
  },
  "language_info": {
   "codemirror_mode": {
    "name": "ipython",
    "version": 3
   },
   "file_extension": ".py",
   "mimetype": "text/x-python",
   "name": "python",
   "nbconvert_exporter": "python",
   "pygments_lexer": "ipython3",
   "version": "3.11.9"
  }
 },
 "nbformat": 4,
 "nbformat_minor": 5
}
